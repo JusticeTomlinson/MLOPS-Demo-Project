{
 "cells": [
  {
   "cell_type": "markdown",
   "metadata": {},
   "source": []
  },
  {
   "cell_type": "code",
   "execution_count": 1,
   "metadata": {},
   "outputs": [],
   "source": [
    "import os\n",
    "import torch\n",
    "import torch.nn as nn"
   ]
  },
  {
   "cell_type": "code",
   "execution_count": 2,
   "metadata": {},
   "outputs": [
    {
     "data": {
      "text/plain": [
       "'c:\\\\Users\\\\justi\\\\Desktop\\\\MLOps Demo\\\\MLOPS-Demo-Project\\\\research'"
      ]
     },
     "execution_count": 2,
     "metadata": {},
     "output_type": "execute_result"
    }
   ],
   "source": [
    "%pwd"
   ]
  },
  {
   "cell_type": "code",
   "execution_count": 3,
   "metadata": {},
   "outputs": [],
   "source": [
    "os.chdir(\"../\")"
   ]
  },
  {
   "cell_type": "code",
   "execution_count": 4,
   "metadata": {},
   "outputs": [
    {
     "data": {
      "text/plain": [
       "'c:\\\\Users\\\\justi\\\\Desktop\\\\MLOps Demo\\\\MLOPS-Demo-Project'"
      ]
     },
     "execution_count": 4,
     "metadata": {},
     "output_type": "execute_result"
    }
   ],
   "source": [
    "%pwd"
   ]
  },
  {
   "cell_type": "code",
   "execution_count": 5,
   "metadata": {},
   "outputs": [],
   "source": [
    "os.environ[\"ML_FLOW_TRACKING_URI\"]=\"https://dagshub.com/JusticeTomlinson/MLOPS-Demo-Project.mlflow\"\n",
    "os.environ[\"ML_FLOW_TRACKING_USERNAME\"]=\"JusticeTomlinson\"\n",
    "os.environ[\"ML_FLOW_TRACKING_PASSWORD\"]=\"1d7b52e3c0614ff8ab57826e5bff9a1391f18bd3\""
   ]
  },
  {
   "cell_type": "code",
   "execution_count": 6,
   "metadata": {},
   "outputs": [],
   "source": [
    "from dataclasses import dataclass\n",
    "from pathlib import Path\n",
    "\n",
    "#need to change according to my training needs\n",
    "@dataclass(frozen=True)\n",
    "class ModelEvaluationConfig:\n",
    "    root_dir: Path\n",
    "    test_data_path: Path\n",
    "    model_path: Path\n",
    "    all_params: dict\n",
    "    input_dim: int \n",
    "    hidden1_dim: int \n",
    "    hidden2_dim: int \n",
    "    output_dim: int\n",
    "    metric_file_name: Path\n",
    "    target_column: str\n",
    "    mlflow_uri: str\n"
   ]
  },
  {
   "cell_type": "code",
   "execution_count": null,
   "metadata": {},
   "outputs": [],
   "source": []
  },
  {
   "cell_type": "code",
   "execution_count": 7,
   "metadata": {},
   "outputs": [],
   "source": [
    "from src.mlops_project.constants import *\n",
    "from src.mlops_project.utils.common import read_yaml, create_directories, save_json"
   ]
  },
  {
   "cell_type": "code",
   "execution_count": 8,
   "metadata": {},
   "outputs": [],
   "source": [
    "class ConfigurationManager:\n",
    "    def __init__(\n",
    "        self,\n",
    "        config_filepath = CONFIG_FILE_PATH,\n",
    "        params_filepath = PARAMS_FILE_PATH,\n",
    "        schema_filepath = SCHEMA_FILE_PATH):\n",
    "\n",
    "        self.config = read_yaml(config_filepath)\n",
    "        self.params = read_yaml(params_filepath)\n",
    "        self.schema = read_yaml(schema_filepath)\n",
    "\n",
    "        create_directories([self.config.artifacts_root])\n",
    "\n",
    "    def get_model_evaluation_config(self) -> ModelEvaluationConfig:\n",
    "        config = self.config.model_evaluation\n",
    "        params = self.params.HeartDiseaseNN\n",
    "        schema = self.schema.TARGET_COLUMN\n",
    "\n",
    "\n",
    "        create_directories([config.root_dir])\n",
    "\n",
    "        model_training_config = ModelEvaluationConfig(\n",
    "            root_dir=config.root_dir,\n",
    "            test_data_path=config.test_data_path,\n",
    "            model_path=config.model_path,\n",
    "            all_params=params,\n",
    "            input_dim = params.input_dim,\n",
    "            hidden1_dim = params.hidden1_dim,\n",
    "            hidden2_dim = params.hidden2_dim,\n",
    "            output_dim = params.output_dim,\n",
    "            metric_file_name=config.metric_file_name,\n",
    "            target_column=schema.name,\n",
    "            mlflow_uri=\"https://dagshub.com/JusticeTomlinson/MLOPS-Demo-Project.mlflow\"\n",
    "        )\n",
    "        \n",
    "        return model_training_config"
   ]
  },
  {
   "cell_type": "code",
   "execution_count": 9,
   "metadata": {},
   "outputs": [],
   "source": [
    "import os\n",
    "from src.mlops_project import logger\n",
    "import pandas as pd\n",
    "import mlflow\n",
    "import mlflow.sklearn\n",
    "import numpy as np\n",
    "from urllib.parse import urlparse\n",
    "from sklearn.metrics import mean_squared_error, mean_absolute_error, r2_score\n",
    "import torch\n",
    "from torch.utils.data import DataLoader, TensorDataset\n",
    "from mlflow.models import infer_signature\n",
    "import dagshub\n",
    "\n",
    "from src.mlops_project.utils.model_architecture import NeuralNetwork"
   ]
  },
  {
   "cell_type": "code",
   "execution_count": 10,
   "metadata": {},
   "outputs": [],
   "source": [
    "def save_json(path, data):\n",
    "    import json\n",
    "    with open(path, 'w') as f:\n",
    "        # Convert NumPy types to Python native types explicitly\n",
    "        converted_data = {k: (v.item() if isinstance(v, np.generic) else v) for k, v in data.items()}\n",
    "        json.dump(converted_data, f)"
   ]
  },
  {
   "cell_type": "code",
   "execution_count": 11,
   "metadata": {},
   "outputs": [],
   "source": [
    "class ModelEvaluation:\n",
    "    def __init__(self, config: ModelEvaluationConfig):\n",
    "        self.config=config\n",
    "    \n",
    "    def eval_metrics(self, actual, pred):\n",
    "        rmse = np.sqrt(mean_squared_error(actual, pred))\n",
    "        mae = mean_squared_error(actual, pred)\n",
    "        r2 = r2_score(actual, pred)\n",
    "\n",
    "        return rmse, mae, r2\n",
    "    \n",
    "    def log_into_mlflow(self):\n",
    "        # Load the test data\n",
    "\n",
    "        test_data = pd.read_csv(self.config.test_data_path)\n",
    "        test_data = test_data.dropna()\n",
    "\n",
    "        # Load the PyTorch model (assuming it's saved with torch.save)\n",
    "        model = NeuralNetwork(self.config.input_dim,\n",
    "                               self.config.hidden1_dim, \n",
    "                               self.config.hidden2_dim, \n",
    "                               self.config.output_dim)\n",
    "        \n",
    "        model.load_state_dict(torch.load(self.config.model_path))\n",
    "\n",
    "        model.eval()  # Set the model to evaluation mode\n",
    "\n",
    "        # Prepare the test inputs and labels\n",
    "        test_x = torch.tensor(test_data.drop([self.config.target_column], axis=1).values, dtype=torch.float32)\n",
    "        test_y = torch.tensor(test_data[[self.config.target_column]].values, dtype=torch.float32)\n",
    "        dagshub.init(repo_name=\"MLOPS-Demo-Project\", repo_owner=\"JusticeTomlinson\")\n",
    "\n",
    "\n",
    "        # Set up MLflow\n",
    "        mlflow.set_registry_uri(self.config.mlflow_uri)\n",
    "        tracking_url_type_store = urlparse(mlflow.get_tracking_uri()).scheme\n",
    "\n",
    "        with mlflow.start_run():\n",
    "            # Make predictions\n",
    "            with torch.no_grad():  # Disable gradient calculation\n",
    "                predicted_qualities = model(test_x)\n",
    "\n",
    "            # Convert predictions to match the expected format\n",
    "            predicted_qualities = predicted_qualities.numpy().flatten()\n",
    "\n",
    "            # Evaluate metrics\n",
    "            (rmse, mae, r2) = self.eval_metrics(test_y.numpy(), predicted_qualities)\n",
    "\n",
    "            # Save metrics locally\n",
    "            scores = {\"rmse\": rmse, \"mae\": mae, \"r2\": r2}\n",
    "            save_json(path=Path(self.config.metric_file_name), data=scores)\n",
    "\n",
    "            # Log parameters and metrics\n",
    "            mlflow.log_params(self.config.all_params)\n",
    "            mlflow.log_metric(\"rmse\", rmse)\n",
    "            mlflow.log_metric(\"r2\", r2)\n",
    "            mlflow.log_metric(\"mae\", mae)\n",
    "\n",
    "            # Handle model logging and registration\n",
    "\n",
    "            if tracking_url_type_store != \"file\":\n",
    "                # mlflow.pytorch.log_model(model, \"model\", registered_model_name=\"HearnDiseaseNN\")\n",
    "\n",
    "                mlflow.pytorch.log_model(pytorch_model=model, \n",
    "                                         artifact_path=\"model\",\n",
    "                                         registered_model_name=\"NeuralNetwork\")\n",
    "\n",
    "\n",
    "\n",
    "            else:\n",
    "                # mlflow.pytorch.log_model(model, \"model\")\n",
    "                # mlflow.pytorch.log_model(model, \"model\", pip_requirements=\"pip_requirements.txt\")\n",
    "                mlflow.pytorch.log_model(pytorch_model=model, \n",
    "                                         artifact_path=\"model\",\n",
    "                                         registered_model_name=\"NeuralNetwork\")\n",
    "\n",
    "\n",
    "    "
   ]
  },
  {
   "cell_type": "code",
   "execution_count": 12,
   "metadata": {},
   "outputs": [
    {
     "name": "stdout",
     "output_type": "stream",
     "text": [
      "[2024-06-08 22:58:27,327: INFO: common: yaml file: config\\config.yaml loaded successfully]\n",
      "[2024-06-08 22:58:27,329: INFO: common: yaml file: params.yaml loaded successfully]\n",
      "[2024-06-08 22:58:27,330: INFO: common: yaml file: schema.yaml loaded successfully]\n",
      "[2024-06-08 22:58:27,331: INFO: common: created directory at: artifacts]\n",
      "[2024-06-08 22:58:27,333: INFO: common: created directory at: artifacts/model_evaluation]\n"
     ]
    },
    {
     "data": {
      "text/html": [
       "<pre style=\"white-space:pre;overflow-x:auto;line-height:normal;font-family:Menlo,'DejaVu Sans Mono',consolas,'Courier New',monospace\">Initialized MLflow to track repo <span style=\"color: #008000; text-decoration-color: #008000\">\"JusticeTomlinson/MLOPS-Demo-Project\"</span>\n",
       "</pre>\n"
      ],
      "text/plain": [
       "Initialized MLflow to track repo \u001b[32m\"JusticeTomlinson/MLOPS-Demo-Project\"\u001b[0m\n"
      ]
     },
     "metadata": {},
     "output_type": "display_data"
    },
    {
     "name": "stdout",
     "output_type": "stream",
     "text": [
      "[2024-06-08 22:58:27,738: INFO: helpers: Initialized MLflow to track repo \"JusticeTomlinson/MLOPS-Demo-Project\"]\n"
     ]
    },
    {
     "data": {
      "text/html": [
       "<pre style=\"white-space:pre;overflow-x:auto;line-height:normal;font-family:Menlo,'DejaVu Sans Mono',consolas,'Courier New',monospace\">Repository JusticeTomlinson/MLOPS-Demo-Project initialized!\n",
       "</pre>\n"
      ],
      "text/plain": [
       "Repository JusticeTomlinson/MLOPS-Demo-Project initialized!\n"
      ]
     },
     "metadata": {},
     "output_type": "display_data"
    },
    {
     "name": "stdout",
     "output_type": "stream",
     "text": [
      "[2024-06-08 22:58:27,740: INFO: helpers: Repository JusticeTomlinson/MLOPS-Demo-Project initialized!]\n"
     ]
    },
    {
     "name": "stderr",
     "output_type": "stream",
     "text": [
      "2024/06/08 22:58:28 WARNING mlflow.utils.requirements_utils: Found torch version (2.3.1+cu121) contains a local version label (+cu121). MLflow logged a pip requirement for this package as 'torch==2.3.1' without the local version label to make it installable from PyPI. To specify pip requirements containing local version labels, please use `conda_env` or `pip_requirements`.\n",
      "2024/06/08 22:58:33 WARNING mlflow.utils.requirements_utils: Found torch version (2.3.1+cu121) contains a local version label (+cu121). MLflow logged a pip requirement for this package as 'torch==2.3.1' without the local version label to make it installable from PyPI. To specify pip requirements containing local version labels, please use `conda_env` or `pip_requirements`.\n",
      "c:\\Users\\justi\\Desktop\\MLOps Demo\\.venv\\lib\\site-packages\\_distutils_hack\\__init__.py:33: UserWarning: Setuptools is replacing distutils.\n",
      "  warnings.warn(\"Setuptools is replacing distutils.\")\n",
      "Registered model 'NeuralNetwork' already exists. Creating a new version of this model...\n",
      "2024/06/08 22:58:37 INFO mlflow.tracking._model_registry.client: Waiting up to 300 seconds for model version to finish creation.                     Model name: NeuralNetwork, version 6\n",
      "Created version '6' of model 'NeuralNetwork'.\n"
     ]
    }
   ],
   "source": [
    "try:\n",
    "    config = ConfigurationManager()\n",
    "    model_evaluation_config = config.get_model_evaluation_config()\n",
    "    model_evaluation_config = ModelEvaluation(config=model_evaluation_config)\n",
    "    model_evaluation_config.log_into_mlflow()\n",
    "except Exception as e:\n",
    "    raise e"
   ]
  }
 ],
 "metadata": {
  "kernelspec": {
   "display_name": "Python 3",
   "language": "python",
   "name": "python3"
  },
  "language_info": {
   "codemirror_mode": {
    "name": "ipython",
    "version": 3
   },
   "file_extension": ".py",
   "mimetype": "text/x-python",
   "name": "python",
   "nbconvert_exporter": "python",
   "pygments_lexer": "ipython3",
   "version": "3.10.9"
  }
 },
 "nbformat": 4,
 "nbformat_minor": 2
}
